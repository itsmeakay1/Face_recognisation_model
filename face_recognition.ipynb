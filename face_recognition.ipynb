{
 "cells": [
  {
   "cell_type": "code",
   "execution_count": 1,
   "metadata": {},
   "outputs": [],
   "source": [
    "import cv2"
   ]
  },
  {
   "cell_type": "code",
   "execution_count": 2,
   "metadata": {},
   "outputs": [
    {
     "name": "stderr",
     "output_type": "stream",
     "text": [
      "<>:6: SyntaxWarning: \"is\" with 'tuple' literal. Did you mean \"==\"?\n",
      "<>:6: SyntaxWarning: \"is\" with 'tuple' literal. Did you mean \"==\"?\n",
      "/var/folders/rg/jn52y65j5m7_v0qvtt8bc0bh0000gn/T/ipykernel_3236/343033067.py:6: SyntaxWarning: \"is\" with 'tuple' literal. Did you mean \"==\"?\n",
      "  if faces is ():\n",
      "2024-08-14 20:12:26.493 Python[3236:190655] WARNING: Secure coding is not enabled for restorable state! Enable secure coding by implementing NSApplicationDelegate.applicationSupportsSecureRestorableState: and returning YES.\n"
     ]
    },
    {
     "name": "stdout",
     "output_type": "stream",
     "text": [
      "collecting samples is completed\n"
     ]
    }
   ],
   "source": [
    "def generate_datset():\n",
    "    face_classifier= cv2.CascadeClassifier(\"/Users/anuragkumar/Desktop/Python/Face recognition/haarcascade_frontalface_default.xml\")\n",
    "    def face_cropped(img):\n",
    "        gray = cv2.cvtColor(img,cv2.COLOR_BGR2GRAY)\n",
    "        faces = face_classifier.detectMultiScale(gray,1.3,5)\n",
    "        if faces is ():\n",
    "            return None\n",
    "        for (x,y,w,h) in faces:\n",
    "            cropped_face=img[y:y+h,x:x+w]\n",
    "        return cropped_face\n",
    "    cap = cv2.VideoCapture(0)\n",
    "    id=8\n",
    "    img_id =0\n",
    "\n",
    "    while True:\n",
    "        ret,frame=cap.read()\n",
    "        if face_cropped(frame) is not None:\n",
    "            img_id +=1\n",
    "            face = cv2.resize(face_cropped(frame),(200,200))\n",
    "            face =cv2.cvtColor(face,cv2.COLOR_BGR2GRAY)\n",
    "            file_name_path = \"Data/user.\" +str(id)+ \".\"+str(img_id)+\".jpg\"\n",
    "            cv2.imwrite(file_name_path,face)\n",
    "            cv2.putText(face,str(img_id),(50,50),cv2.FONT_HERSHEY_COMPLEX,1,(0,255,0),2)\n",
    "\n",
    "            cv2.imshow(\"Cropped face\",face)\n",
    "            if cv2.waitKey(1)==13 or int(img_id)==100:\n",
    "                break\n",
    "    cap.release\n",
    "    cv2.destroyAllWindows()\n",
    "    print(\"collecting samples is completed\")\n",
    "generate_datset()\n"
   ]
  },
  {
   "cell_type": "markdown",
   "metadata": {},
   "source": [
    "Try and Run the ANN Model for the classifiers And train the classifiers"
   ]
  },
  {
   "cell_type": "code",
   "execution_count": 3,
   "metadata": {},
   "outputs": [
    {
     "name": "stdout",
     "output_type": "stream",
     "text": [
      "Training completed and classifier saved as 'classifier.xml'\n"
     ]
    }
   ],
   "source": [
    "import os\n",
    "import cv2\n",
    "from PIL import Image  # pip install pillow\n",
    "import numpy as np     # pip install numpy\n",
    "\n",
    "def train_classifier(data_dir):\n",
    "    if not os.path.exists(data_dir):\n",
    "        print(f\"Directory {data_dir} does not exist.\")\n",
    "        return\n",
    "    \n",
    "    # Get all file paths in the directory\n",
    "    path = [os.path.join(data_dir, f) for f in os.listdir(data_dir) if f.lower().endswith(('.png', '.jpg', '.jpeg', '.bmp'))]\n",
    "\n",
    "    faces = []\n",
    "    ids = []\n",
    "\n",
    "    for image in path:\n",
    "        try:\n",
    "            img = Image.open(image).convert('L')  # Convert image to grayscale\n",
    "            imageNp = np.array(img, 'uint8')\n",
    "            \n",
    "            # Extract the ID from the filename (assumes format: name.id.extension)\n",
    "            id = int(os.path.split(image)[1].split(\".\")[1])\n",
    "\n",
    "            faces.append(imageNp)\n",
    "            ids.append(id)\n",
    "        except Exception as e:\n",
    "            print(f\"Error processing {image}: {e}\")\n",
    "            continue\n",
    "\n",
    "    if len(faces) == 0 or len(ids) == 0:\n",
    "        print(\"No valid images found in the directory.\")\n",
    "        return\n",
    "\n",
    "    ids = np.array(ids)\n",
    "\n",
    "    # Train and save classifier\n",
    "    clf = cv2.face.LBPHFaceRecognizer_create()\n",
    "    clf.train(faces, ids)\n",
    "    clf.write(\"classifier.xml\")\n",
    "    print(\"Training completed and classifier saved as 'classifier.xml'\")\n",
    "\n",
    "# Example usage\n",
    "train_classifier(\"data\")\n"
   ]
  },
  {
   "cell_type": "code",
   "execution_count": 4,
   "metadata": {},
   "outputs": [],
   "source": [
    "import cv2\n",
    "import numpy as np\n",
    "from PIL import Image\n",
    "import os\n",
    "\n",
    "# Function to draw boundary around detected faces and recognize them\n",
    "def draw_boundary(img, classifier, scaleFactor, minNeighbors, color, clf, id_map):\n",
    "    gray_img = cv2.cvtColor(img, cv2.COLOR_BGR2GRAY)\n",
    "    features = classifier.detectMultiScale(gray_img, scaleFactor, minNeighbors)\n",
    "\n",
    "    for (x, y, w, h) in features:\n",
    "        cv2.rectangle(img, (x, y), (x+w, y+h), color, 2)\n",
    "        \n",
    "        id, pred = clf.predict(gray_img[y:y+h, x:x+w])\n",
    "        confidence = int(100 * (1 - pred / 300))\n",
    "        \n",
    "        if confidence > 70:\n",
    "            name = id_map.get(id, \"UNKNOWN\")\n",
    "            cv2.putText(img, name, (x, y-5), cv2.FONT_HERSHEY_SIMPLEX, 0.8, color, 1, cv2.LINE_AA)\n",
    "        else:\n",
    "            cv2.putText(img, \"UNKNOWN\", (x, y-5), cv2.FONT_HERSHEY_SIMPLEX, 0.8, (0, 0, 255), 1, cv2.LINE_AA)\n",
    "\n",
    "    return img\n",
    "\n",
    "# Loading classifier\n",
    "faceCascade = cv2.CascadeClassifier(\"haarcascade_frontalface_default.xml\")\n",
    "\n",
    "# Initialize and load the trained model\n",
    "clf = cv2.face.LBPHFaceRecognizer_create()\n",
    "clf.read(\"classifier.xml\")\n",
    "\n",
    "# Mapping IDs to names\n",
    "id_map = {\n",
    "    1: \"luv\",\n",
    "    2: \"panda\",\n",
    "    3: \"Shailesh\",\n",
    "    4: \"Adarsh\",\n",
    "    5: \"Kushal\",\n",
    "    6: \"Himanshu jnr\",\n",
    "    7: \"Anurag\",\n",
    "    8: \"Vidhi\"\n",
    "    # Add more ID-name mappings as needed\n",
    "}\n",
    "\n",
    "# Capturing video from the default camera\n",
    "video_capture = cv2.VideoCapture(0)  # Use 0 for the default webcam\n",
    "\n",
    "while True:\n",
    "    ret, img = video_capture.read()\n",
    "    \n",
    "    if not ret:\n",
    "        print(\"Failed to grab frame\")\n",
    "        break\n",
    "\n",
    "    img = draw_boundary(img, faceCascade, 1.3, 6, (255, 255, 255), clf, id_map)\n",
    "    cv2.imshow(\"Face Detection\", img)\n",
    "    \n",
    "    if cv2.waitKey(1) == 13:  # Press Enter to exit\n",
    "        break\n",
    "\n",
    "video_capture.release()\n",
    "cv2.destroyAllWindows()\n"
   ]
  }
 ],
 "metadata": {
  "kernelspec": {
   "display_name": "Python 3",
   "language": "python",
   "name": "python3"
  },
  "language_info": {
   "codemirror_mode": {
    "name": "ipython",
    "version": 3
   },
   "file_extension": ".py",
   "mimetype": "text/x-python",
   "name": "python",
   "nbconvert_exporter": "python",
   "pygments_lexer": "ipython3",
   "version": "3.12.4"
  }
 },
 "nbformat": 4,
 "nbformat_minor": 2
}
